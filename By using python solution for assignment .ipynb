{
 "cells": [
  {
   "cell_type": "code",
   "execution_count": 247,
   "metadata": {},
   "outputs": [],
   "source": [
    "import pandas as pd\n",
    "import pyodbc \n",
    "conn = pyodbc.connect('Driver={SQL Server};'\n",
    "                      'Server=RON\\SQLEXPRESS;'\n",
    "                      'Database=TestDB;'\n",
    "                      'Trusted_Connection=yes;')\n",
    "\n",
    "cursor = conn.cursor()\n",
    "\n",
    "sql_query = pd.read_sql_query('SELECT * FROM TestDB.dbo.Person',conn)\n",
    "sql_query.to_csv('output.csv')"
   ]
  },
  {
   "cell_type": "code",
   "execution_count": 41,
   "metadata": {},
   "outputs": [
    {
     "data": {
      "text/html": [
       "<div>\n",
       "<style scoped>\n",
       "    .dataframe tbody tr th:only-of-type {\n",
       "        vertical-align: middle;\n",
       "    }\n",
       "\n",
       "    .dataframe tbody tr th {\n",
       "        vertical-align: top;\n",
       "    }\n",
       "\n",
       "    .dataframe thead th {\n",
       "        text-align: right;\n",
       "    }\n",
       "</style>\n",
       "<table border=\"1\" class=\"dataframe\">\n",
       "  <thead>\n",
       "    <tr style=\"text-align: right;\">\n",
       "      <th></th>\n",
       "      <th>Unnamed: 0</th>\n",
       "      <th>customer_id</th>\n",
       "      <th>name</th>\n",
       "      <th>email</th>\n",
       "      <th>membership_age</th>\n",
       "      <th>revenue</th>\n",
       "      <th>preferred_film_language</th>\n",
       "      <th>preferred_film_category</th>\n",
       "      <th>city_id</th>\n",
       "      <th>city</th>\n",
       "      <th>preferred_film_year</th>\n",
       "    </tr>\n",
       "  </thead>\n",
       "  <tbody>\n",
       "    <tr>\n",
       "      <th>0</th>\n",
       "      <td>0</td>\n",
       "      <td>1</td>\n",
       "      <td>MARY_SMITH</td>\n",
       "      <td>MARY.SMITH@sakilacustomer.org</td>\n",
       "      <td>0 days 06:52:44.000000000</td>\n",
       "      <td>118.68</td>\n",
       "      <td>English,Italian,Japanese,Mandarin,French</td>\n",
       "      <td>Sports,Sci-Fi,Animation,Drama,Comedy</td>\n",
       "      <td>463</td>\n",
       "      <td>Sasebo</td>\n",
       "      <td>00s</td>\n",
       "    </tr>\n",
       "    <tr>\n",
       "      <th>1</th>\n",
       "      <td>1</td>\n",
       "      <td>2</td>\n",
       "      <td>PATRICIA_JOHNSON</td>\n",
       "      <td>PATRICIA.JOHNSON@sakilacustomer.org</td>\n",
       "      <td>0 days 06:52:44.000000000</td>\n",
       "      <td>128.73</td>\n",
       "      <td>English,Italian,Japanese,Mandarin,French</td>\n",
       "      <td>Sports,Sci-Fi,Animation,Drama,Comedy</td>\n",
       "      <td>449</td>\n",
       "      <td>San Bernardino</td>\n",
       "      <td>00s</td>\n",
       "    </tr>\n",
       "    <tr>\n",
       "      <th>2</th>\n",
       "      <td>2</td>\n",
       "      <td>3</td>\n",
       "      <td>LINDA_WILLIAMS</td>\n",
       "      <td>LINDA.WILLIAMS@sakilacustomer.org</td>\n",
       "      <td>0 days 06:52:44.000000000</td>\n",
       "      <td>135.74</td>\n",
       "      <td>English,Italian,Japanese,Mandarin,French</td>\n",
       "      <td>Sports,Sci-Fi,Animation,Drama,Comedy</td>\n",
       "      <td>38</td>\n",
       "      <td>Athenai</td>\n",
       "      <td>00s</td>\n",
       "    </tr>\n",
       "    <tr>\n",
       "      <th>3</th>\n",
       "      <td>3</td>\n",
       "      <td>4</td>\n",
       "      <td>BARBARA_JONES</td>\n",
       "      <td>BARBARA.JONES@sakilacustomer.org</td>\n",
       "      <td>0 days 06:52:44.000000000</td>\n",
       "      <td>81.78</td>\n",
       "      <td>English,Italian,Japanese,Mandarin,French</td>\n",
       "      <td>Sports,Sci-Fi,Animation,Drama,Comedy</td>\n",
       "      <td>349</td>\n",
       "      <td>Myingyan</td>\n",
       "      <td>00s</td>\n",
       "    </tr>\n",
       "    <tr>\n",
       "      <th>4</th>\n",
       "      <td>4</td>\n",
       "      <td>5</td>\n",
       "      <td>ELIZABETH_BROWN</td>\n",
       "      <td>ELIZABETH.BROWN@sakilacustomer.org</td>\n",
       "      <td>0 days 06:52:44.000000000</td>\n",
       "      <td>144.62</td>\n",
       "      <td>English,Italian,Japanese,Mandarin,French</td>\n",
       "      <td>Sports,Sci-Fi,Animation,Drama,Comedy</td>\n",
       "      <td>361</td>\n",
       "      <td>Nantou</td>\n",
       "      <td>00s</td>\n",
       "    </tr>\n",
       "  </tbody>\n",
       "</table>\n",
       "</div>"
      ],
      "text/plain": [
       "   Unnamed: 0  customer_id              name  \\\n",
       "0           0            1        MARY_SMITH   \n",
       "1           1            2  PATRICIA_JOHNSON   \n",
       "2           2            3    LINDA_WILLIAMS   \n",
       "3           3            4     BARBARA_JONES   \n",
       "4           4            5   ELIZABETH_BROWN   \n",
       "\n",
       "                                 email             membership_age  revenue  \\\n",
       "0        MARY.SMITH@sakilacustomer.org  0 days 06:52:44.000000000   118.68   \n",
       "1  PATRICIA.JOHNSON@sakilacustomer.org  0 days 06:52:44.000000000   128.73   \n",
       "2    LINDA.WILLIAMS@sakilacustomer.org  0 days 06:52:44.000000000   135.74   \n",
       "3     BARBARA.JONES@sakilacustomer.org  0 days 06:52:44.000000000    81.78   \n",
       "4   ELIZABETH.BROWN@sakilacustomer.org  0 days 06:52:44.000000000   144.62   \n",
       "\n",
       "                    preferred_film_language  \\\n",
       "0  English,Italian,Japanese,Mandarin,French   \n",
       "1  English,Italian,Japanese,Mandarin,French   \n",
       "2  English,Italian,Japanese,Mandarin,French   \n",
       "3  English,Italian,Japanese,Mandarin,French   \n",
       "4  English,Italian,Japanese,Mandarin,French   \n",
       "\n",
       "                preferred_film_category  city_id            city  \\\n",
       "0  Sports,Sci-Fi,Animation,Drama,Comedy      463          Sasebo   \n",
       "1  Sports,Sci-Fi,Animation,Drama,Comedy      449  San Bernardino   \n",
       "2  Sports,Sci-Fi,Animation,Drama,Comedy       38         Athenai   \n",
       "3  Sports,Sci-Fi,Animation,Drama,Comedy      349        Myingyan   \n",
       "4  Sports,Sci-Fi,Animation,Drama,Comedy      361          Nantou   \n",
       "\n",
       "  preferred_film_year  \n",
       "0                 00s  \n",
       "1                 00s  \n",
       "2                 00s  \n",
       "3                 00s  \n",
       "4                 00s  "
      ]
     },
     "execution_count": 41,
     "metadata": {},
     "output_type": "execute_result"
    }
   ],
   "source": [
    "output=pd.read_csv(r'C:\\Users\\syedkhadarvalli\\output.csv')\n",
    "output.head()"
   ]
  },
  {
   "cell_type": "code",
   "execution_count": null,
   "metadata": {},
   "outputs": [],
   "source": []
  },
  {
   "cell_type": "code",
   "execution_count": null,
   "metadata": {},
   "outputs": [],
   "source": []
  },
  {
   "cell_type": "markdown",
   "metadata": {},
   "source": [
    "# Desired Output.csv file making by using python"
   ]
  },
  {
   "cell_type": "code",
   "execution_count": 66,
   "metadata": {},
   "outputs": [],
   "source": [
    "out=pd.DataFrame()"
   ]
  },
  {
   "cell_type": "markdown",
   "metadata": {},
   "source": [
    "# 1.customer_id\t"
   ]
  },
  {
   "cell_type": "code",
   "execution_count": 67,
   "metadata": {},
   "outputs": [],
   "source": [
    "customer=pd.read_csv(r'C:\\Users\\syedkhadarvalli\\Desktop\\mysql-sakila-db\\customer.csv')\n",
    "\n",
    "out['customer_id']=customer['customer_id']"
   ]
  },
  {
   "cell_type": "markdown",
   "metadata": {},
   "source": [
    "# 2. name"
   ]
  },
  {
   "cell_type": "code",
   "execution_count": 68,
   "metadata": {},
   "outputs": [],
   "source": [
    "out['name']=customer['first_name']+'_'+customer['last_name']"
   ]
  },
  {
   "cell_type": "markdown",
   "metadata": {},
   "source": [
    "# 3.email"
   ]
  },
  {
   "cell_type": "code",
   "execution_count": 69,
   "metadata": {},
   "outputs": [],
   "source": [
    "out['email']=customer['email']"
   ]
  },
  {
   "cell_type": "markdown",
   "metadata": {},
   "source": [
    "# 4.membership_age"
   ]
  },
  {
   "cell_type": "code",
   "execution_count": 70,
   "metadata": {},
   "outputs": [],
   "source": [
    "customer['create_date']=pd.to_datetime(customer['create_date'])\n",
    "customer['last_update']=pd.to_datetime(customer['last_update'])"
   ]
  },
  {
   "cell_type": "code",
   "execution_count": 71,
   "metadata": {},
   "outputs": [],
   "source": [
    "out['membership_age']=customer['last_update']-customer['create_date']"
   ]
  },
  {
   "cell_type": "markdown",
   "metadata": {},
   "source": [
    "# 5.revenue"
   ]
  },
  {
   "cell_type": "code",
   "execution_count": 72,
   "metadata": {},
   "outputs": [],
   "source": [
    "payment=pd.read_csv(r'C:\\Users\\syedkhadarvalli\\Desktop\\mysql-sakila-db\\payment.csv')\n",
    "\n",
    "out['revenue']=payment.groupby('customer_id')['amount'].sum().tolist()"
   ]
  },
  {
   "cell_type": "markdown",
   "metadata": {},
   "source": [
    "# 6.preferred_film_language"
   ]
  },
  {
   "cell_type": "code",
   "execution_count": 73,
   "metadata": {},
   "outputs": [
    {
     "data": {
      "text/plain": [
       "0     English\n",
       "1     Italian\n",
       "2    Japanese\n",
       "3    Mandarin\n",
       "4      French\n",
       "5      German\n",
       "Name: name, dtype: object"
      ]
     },
     "execution_count": 73,
     "metadata": {},
     "output_type": "execute_result"
    }
   ],
   "source": [
    "language=pd.read_csv(r'C:\\Users\\syedkhadarvalli\\Desktop\\mysql-sakila-db\\language.csv')\n",
    "\n",
    "language['name']"
   ]
  },
  {
   "cell_type": "code",
   "execution_count": 74,
   "metadata": {},
   "outputs": [],
   "source": [
    "out['preferred_film_language']=\"English,Italian,Japanese,Mandarin,French\""
   ]
  },
  {
   "cell_type": "markdown",
   "metadata": {},
   "source": [
    "# 7.preferred_film_category"
   ]
  },
  {
   "cell_type": "code",
   "execution_count": 75,
   "metadata": {},
   "outputs": [
    {
     "data": {
      "text/html": [
       "<div>\n",
       "<style scoped>\n",
       "    .dataframe tbody tr th:only-of-type {\n",
       "        vertical-align: middle;\n",
       "    }\n",
       "\n",
       "    .dataframe tbody tr th {\n",
       "        vertical-align: top;\n",
       "    }\n",
       "\n",
       "    .dataframe thead th {\n",
       "        text-align: right;\n",
       "    }\n",
       "</style>\n",
       "<table border=\"1\" class=\"dataframe\">\n",
       "  <thead>\n",
       "    <tr style=\"text-align: right;\">\n",
       "      <th></th>\n",
       "      <th>category</th>\n",
       "      <th>total_sales</th>\n",
       "    </tr>\n",
       "  </thead>\n",
       "  <tbody>\n",
       "    <tr>\n",
       "      <th>0</th>\n",
       "      <td>Sports</td>\n",
       "      <td>5314.21</td>\n",
       "    </tr>\n",
       "    <tr>\n",
       "      <th>1</th>\n",
       "      <td>Sci-Fi</td>\n",
       "      <td>4756.98</td>\n",
       "    </tr>\n",
       "    <tr>\n",
       "      <th>2</th>\n",
       "      <td>Animation</td>\n",
       "      <td>4656.30</td>\n",
       "    </tr>\n",
       "    <tr>\n",
       "      <th>3</th>\n",
       "      <td>Drama</td>\n",
       "      <td>4587.39</td>\n",
       "    </tr>\n",
       "    <tr>\n",
       "      <th>4</th>\n",
       "      <td>Comedy</td>\n",
       "      <td>4383.58</td>\n",
       "    </tr>\n",
       "  </tbody>\n",
       "</table>\n",
       "</div>"
      ],
      "text/plain": [
       "    category  total_sales\n",
       "0     Sports      5314.21\n",
       "1     Sci-Fi      4756.98\n",
       "2  Animation      4656.30\n",
       "3      Drama      4587.39\n",
       "4     Comedy      4383.58"
      ]
     },
     "execution_count": 75,
     "metadata": {},
     "output_type": "execute_result"
    }
   ],
   "source": [
    "sales_by_film_category=pd.read_csv(r'C:\\Users\\syedkhadarvalli\\Desktop\\mysql-sakila-db\\views\\sales_by_film_category.csv')\n",
    "sales_by_film_category.head()"
   ]
  },
  {
   "cell_type": "code",
   "execution_count": 76,
   "metadata": {},
   "outputs": [],
   "source": [
    "out['preferred_film_category']='Sports,Sci-Fi,Animation,Drama,Comedy'"
   ]
  },
  {
   "cell_type": "markdown",
   "metadata": {},
   "source": [
    "# 8.city_id"
   ]
  },
  {
   "cell_type": "code",
   "execution_count": 78,
   "metadata": {},
   "outputs": [],
   "source": [
    "address=pd.read_csv(r'C:\\Users\\syedkhadarvalli\\Desktop\\mysql-sakila-db\\address.csv')\n",
    "city=pd.read_csv(r'C:\\Users\\syedkhadarvalli\\Desktop\\mysql-sakila-db\\city.csv')"
   ]
  },
  {
   "cell_type": "code",
   "execution_count": 79,
   "metadata": {},
   "outputs": [
    {
     "data": {
      "text/html": [
       "<div>\n",
       "<style scoped>\n",
       "    .dataframe tbody tr th:only-of-type {\n",
       "        vertical-align: middle;\n",
       "    }\n",
       "\n",
       "    .dataframe tbody tr th {\n",
       "        vertical-align: top;\n",
       "    }\n",
       "\n",
       "    .dataframe thead th {\n",
       "        text-align: right;\n",
       "    }\n",
       "</style>\n",
       "<table border=\"1\" class=\"dataframe\">\n",
       "  <thead>\n",
       "    <tr style=\"text-align: right;\">\n",
       "      <th></th>\n",
       "      <th>customer_id</th>\n",
       "      <th>city_id</th>\n",
       "      <th>city</th>\n",
       "    </tr>\n",
       "  </thead>\n",
       "  <tbody>\n",
       "    <tr>\n",
       "      <th>0</th>\n",
       "      <td>1</td>\n",
       "      <td>463</td>\n",
       "      <td>Sasebo</td>\n",
       "    </tr>\n",
       "    <tr>\n",
       "      <th>1</th>\n",
       "      <td>2</td>\n",
       "      <td>449</td>\n",
       "      <td>San Bernardino</td>\n",
       "    </tr>\n",
       "    <tr>\n",
       "      <th>2</th>\n",
       "      <td>3</td>\n",
       "      <td>38</td>\n",
       "      <td>Athenai</td>\n",
       "    </tr>\n",
       "    <tr>\n",
       "      <th>3</th>\n",
       "      <td>4</td>\n",
       "      <td>349</td>\n",
       "      <td>Myingyan</td>\n",
       "    </tr>\n",
       "    <tr>\n",
       "      <th>4</th>\n",
       "      <td>5</td>\n",
       "      <td>361</td>\n",
       "      <td>Nantou</td>\n",
       "    </tr>\n",
       "  </tbody>\n",
       "</table>\n",
       "</div>"
      ],
      "text/plain": [
       "   customer_id  city_id            city\n",
       "0            1      463          Sasebo\n",
       "1            2      449  San Bernardino\n",
       "2            3       38         Athenai\n",
       "3            4      349        Myingyan\n",
       "4            5      361          Nantou"
      ]
     },
     "execution_count": 79,
     "metadata": {},
     "output_type": "execute_result"
    }
   ],
   "source": [
    "p=pd.merge(customer,address,how='inner',on=['address_id'])\n",
    "p=pd.merge(p,city,how='inner',on=['city_id'])\n",
    "p[['customer_id','city_id','city']].head()"
   ]
  },
  {
   "cell_type": "code",
   "execution_count": 80,
   "metadata": {},
   "outputs": [],
   "source": [
    "out['city_id']=p['city_id']"
   ]
  },
  {
   "cell_type": "markdown",
   "metadata": {},
   "source": [
    "# 9.preferred_film_year"
   ]
  },
  {
   "cell_type": "code",
   "execution_count": 81,
   "metadata": {},
   "outputs": [
    {
     "data": {
      "text/html": [
       "<div>\n",
       "<style scoped>\n",
       "    .dataframe tbody tr th:only-of-type {\n",
       "        vertical-align: middle;\n",
       "    }\n",
       "\n",
       "    .dataframe tbody tr th {\n",
       "        vertical-align: top;\n",
       "    }\n",
       "\n",
       "    .dataframe thead th {\n",
       "        text-align: right;\n",
       "    }\n",
       "</style>\n",
       "<table border=\"1\" class=\"dataframe\">\n",
       "  <thead>\n",
       "    <tr style=\"text-align: right;\">\n",
       "      <th></th>\n",
       "      <th>film_id</th>\n",
       "      <th>title</th>\n",
       "      <th>description</th>\n",
       "      <th>release_year</th>\n",
       "      <th>language_id</th>\n",
       "      <th>original_language_id</th>\n",
       "      <th>rental_duration</th>\n",
       "      <th>rental_rate</th>\n",
       "      <th>length</th>\n",
       "      <th>replacement_cost</th>\n",
       "      <th>rating</th>\n",
       "      <th>special_features</th>\n",
       "      <th>last_update</th>\n",
       "    </tr>\n",
       "  </thead>\n",
       "  <tbody>\n",
       "    <tr>\n",
       "      <th>0</th>\n",
       "      <td>1</td>\n",
       "      <td>ACADEMY DINOSAUR</td>\n",
       "      <td>A Epic Drama of a Feminist And a Mad Scientist...</td>\n",
       "      <td>2006</td>\n",
       "      <td>1</td>\n",
       "      <td>NaN</td>\n",
       "      <td>6</td>\n",
       "      <td>0.99</td>\n",
       "      <td>86</td>\n",
       "      <td>20.99</td>\n",
       "      <td>PG</td>\n",
       "      <td>Deleted Scenes,Behind the Scenes</td>\n",
       "      <td>2006-02-15 05:03:42</td>\n",
       "    </tr>\n",
       "    <tr>\n",
       "      <th>1</th>\n",
       "      <td>2</td>\n",
       "      <td>ACE GOLDFINGER</td>\n",
       "      <td>A Astounding Epistle of a Database Administrat...</td>\n",
       "      <td>2006</td>\n",
       "      <td>1</td>\n",
       "      <td>NaN</td>\n",
       "      <td>3</td>\n",
       "      <td>4.99</td>\n",
       "      <td>48</td>\n",
       "      <td>12.99</td>\n",
       "      <td>G</td>\n",
       "      <td>Trailers,Deleted Scenes</td>\n",
       "      <td>2006-02-15 05:03:42</td>\n",
       "    </tr>\n",
       "    <tr>\n",
       "      <th>2</th>\n",
       "      <td>3</td>\n",
       "      <td>ADAPTATION HOLES</td>\n",
       "      <td>A Astounding Reflection of a Lumberjack And a ...</td>\n",
       "      <td>2006</td>\n",
       "      <td>1</td>\n",
       "      <td>NaN</td>\n",
       "      <td>7</td>\n",
       "      <td>2.99</td>\n",
       "      <td>50</td>\n",
       "      <td>18.99</td>\n",
       "      <td>NC-17</td>\n",
       "      <td>Trailers,Deleted Scenes</td>\n",
       "      <td>2006-02-15 05:03:42</td>\n",
       "    </tr>\n",
       "    <tr>\n",
       "      <th>3</th>\n",
       "      <td>4</td>\n",
       "      <td>AFFAIR PREJUDICE</td>\n",
       "      <td>A Fanciful Documentary of a Frisbee And a Lumb...</td>\n",
       "      <td>2006</td>\n",
       "      <td>1</td>\n",
       "      <td>NaN</td>\n",
       "      <td>5</td>\n",
       "      <td>2.99</td>\n",
       "      <td>117</td>\n",
       "      <td>26.99</td>\n",
       "      <td>G</td>\n",
       "      <td>Commentaries,Behind the Scenes</td>\n",
       "      <td>2006-02-15 05:03:42</td>\n",
       "    </tr>\n",
       "    <tr>\n",
       "      <th>4</th>\n",
       "      <td>5</td>\n",
       "      <td>AFRICAN EGG</td>\n",
       "      <td>A Fast-Paced Documentary of a Pastry Chef And ...</td>\n",
       "      <td>2006</td>\n",
       "      <td>1</td>\n",
       "      <td>NaN</td>\n",
       "      <td>6</td>\n",
       "      <td>2.99</td>\n",
       "      <td>130</td>\n",
       "      <td>22.99</td>\n",
       "      <td>G</td>\n",
       "      <td>Deleted Scenes</td>\n",
       "      <td>2006-02-15 05:03:42</td>\n",
       "    </tr>\n",
       "  </tbody>\n",
       "</table>\n",
       "</div>"
      ],
      "text/plain": [
       "   film_id             title  \\\n",
       "0        1  ACADEMY DINOSAUR   \n",
       "1        2    ACE GOLDFINGER   \n",
       "2        3  ADAPTATION HOLES   \n",
       "3        4  AFFAIR PREJUDICE   \n",
       "4        5       AFRICAN EGG   \n",
       "\n",
       "                                         description  release_year  \\\n",
       "0  A Epic Drama of a Feminist And a Mad Scientist...          2006   \n",
       "1  A Astounding Epistle of a Database Administrat...          2006   \n",
       "2  A Astounding Reflection of a Lumberjack And a ...          2006   \n",
       "3  A Fanciful Documentary of a Frisbee And a Lumb...          2006   \n",
       "4  A Fast-Paced Documentary of a Pastry Chef And ...          2006   \n",
       "\n",
       "   language_id  original_language_id  rental_duration  rental_rate  length  \\\n",
       "0            1                   NaN                6         0.99      86   \n",
       "1            1                   NaN                3         4.99      48   \n",
       "2            1                   NaN                7         2.99      50   \n",
       "3            1                   NaN                5         2.99     117   \n",
       "4            1                   NaN                6         2.99     130   \n",
       "\n",
       "   replacement_cost rating                  special_features  \\\n",
       "0             20.99     PG  Deleted Scenes,Behind the Scenes   \n",
       "1             12.99      G           Trailers,Deleted Scenes   \n",
       "2             18.99  NC-17           Trailers,Deleted Scenes   \n",
       "3             26.99      G    Commentaries,Behind the Scenes   \n",
       "4             22.99      G                    Deleted Scenes   \n",
       "\n",
       "           last_update  \n",
       "0  2006-02-15 05:03:42  \n",
       "1  2006-02-15 05:03:42  \n",
       "2  2006-02-15 05:03:42  \n",
       "3  2006-02-15 05:03:42  \n",
       "4  2006-02-15 05:03:42  "
      ]
     },
     "execution_count": 81,
     "metadata": {},
     "output_type": "execute_result"
    }
   ],
   "source": [
    "film=pd.read_csv(r'C:\\Users\\syedkhadarvalli\\Desktop\\mysql-sakila-db\\film.csv')\n",
    "film.head()"
   ]
  },
  {
   "cell_type": "code",
   "execution_count": 82,
   "metadata": {},
   "outputs": [],
   "source": [
    "y=[]\n",
    "for i in film.release_year:\n",
    "    if i > 2010:\n",
    "        y.append('New')\n",
    "    elif i > 2000:\n",
    "        y.append('00s')\n",
    "    elif i > 1990:\n",
    "        y.append('90s')\n",
    "    elif i < 1990:\n",
    "        y.append('old')"
   ]
  },
  {
   "cell_type": "code",
   "execution_count": 64,
   "metadata": {},
   "outputs": [],
   "source": [
    "out['preferred_film_year']=y"
   ]
  },
  {
   "cell_type": "code",
   "execution_count": 65,
   "metadata": {},
   "outputs": [
    {
     "data": {
      "text/html": [
       "<div>\n",
       "<style scoped>\n",
       "    .dataframe tbody tr th:only-of-type {\n",
       "        vertical-align: middle;\n",
       "    }\n",
       "\n",
       "    .dataframe tbody tr th {\n",
       "        vertical-align: top;\n",
       "    }\n",
       "\n",
       "    .dataframe thead th {\n",
       "        text-align: right;\n",
       "    }\n",
       "</style>\n",
       "<table border=\"1\" class=\"dataframe\">\n",
       "  <thead>\n",
       "    <tr style=\"text-align: right;\">\n",
       "      <th></th>\n",
       "      <th>customer_id</th>\n",
       "      <th>name</th>\n",
       "      <th>email</th>\n",
       "      <th>membership_age</th>\n",
       "      <th>revenue</th>\n",
       "      <th>preferred_film_language</th>\n",
       "      <th>preferred_film_category</th>\n",
       "      <th>city_id</th>\n",
       "      <th>preferred_film_year</th>\n",
       "    </tr>\n",
       "  </thead>\n",
       "  <tbody>\n",
       "    <tr>\n",
       "      <th>0</th>\n",
       "      <td>1</td>\n",
       "      <td>MARY_SMITH</td>\n",
       "      <td>MARY.SMITH@sakilacustomer.org</td>\n",
       "      <td>06:52:44</td>\n",
       "      <td>118.68</td>\n",
       "      <td>English,Italian,Japanese,Mandarin,French</td>\n",
       "      <td>Sports,Sci-Fi,Animation,Drama,Comedy</td>\n",
       "      <td>463</td>\n",
       "      <td>00s</td>\n",
       "    </tr>\n",
       "    <tr>\n",
       "      <th>1</th>\n",
       "      <td>2</td>\n",
       "      <td>PATRICIA_JOHNSON</td>\n",
       "      <td>PATRICIA.JOHNSON@sakilacustomer.org</td>\n",
       "      <td>06:52:44</td>\n",
       "      <td>128.73</td>\n",
       "      <td>English,Italian,Japanese,Mandarin,French</td>\n",
       "      <td>Sports,Sci-Fi,Animation,Drama,Comedy</td>\n",
       "      <td>449</td>\n",
       "      <td>00s</td>\n",
       "    </tr>\n",
       "    <tr>\n",
       "      <th>2</th>\n",
       "      <td>3</td>\n",
       "      <td>LINDA_WILLIAMS</td>\n",
       "      <td>LINDA.WILLIAMS@sakilacustomer.org</td>\n",
       "      <td>06:52:44</td>\n",
       "      <td>135.74</td>\n",
       "      <td>English,Italian,Japanese,Mandarin,French</td>\n",
       "      <td>Sports,Sci-Fi,Animation,Drama,Comedy</td>\n",
       "      <td>38</td>\n",
       "      <td>00s</td>\n",
       "    </tr>\n",
       "    <tr>\n",
       "      <th>3</th>\n",
       "      <td>4</td>\n",
       "      <td>BARBARA_JONES</td>\n",
       "      <td>BARBARA.JONES@sakilacustomer.org</td>\n",
       "      <td>06:52:44</td>\n",
       "      <td>81.78</td>\n",
       "      <td>English,Italian,Japanese,Mandarin,French</td>\n",
       "      <td>Sports,Sci-Fi,Animation,Drama,Comedy</td>\n",
       "      <td>349</td>\n",
       "      <td>00s</td>\n",
       "    </tr>\n",
       "    <tr>\n",
       "      <th>4</th>\n",
       "      <td>5</td>\n",
       "      <td>ELIZABETH_BROWN</td>\n",
       "      <td>ELIZABETH.BROWN@sakilacustomer.org</td>\n",
       "      <td>06:52:44</td>\n",
       "      <td>144.62</td>\n",
       "      <td>English,Italian,Japanese,Mandarin,French</td>\n",
       "      <td>Sports,Sci-Fi,Animation,Drama,Comedy</td>\n",
       "      <td>361</td>\n",
       "      <td>00s</td>\n",
       "    </tr>\n",
       "  </tbody>\n",
       "</table>\n",
       "</div>"
      ],
      "text/plain": [
       "   customer_id              name                                email  \\\n",
       "0            1        MARY_SMITH        MARY.SMITH@sakilacustomer.org   \n",
       "1            2  PATRICIA_JOHNSON  PATRICIA.JOHNSON@sakilacustomer.org   \n",
       "2            3    LINDA_WILLIAMS    LINDA.WILLIAMS@sakilacustomer.org   \n",
       "3            4     BARBARA_JONES     BARBARA.JONES@sakilacustomer.org   \n",
       "4            5   ELIZABETH_BROWN   ELIZABETH.BROWN@sakilacustomer.org   \n",
       "\n",
       "  membership_age  revenue                   preferred_film_language  \\\n",
       "0       06:52:44   118.68  English,Italian,Japanese,Mandarin,French   \n",
       "1       06:52:44   128.73  English,Italian,Japanese,Mandarin,French   \n",
       "2       06:52:44   135.74  English,Italian,Japanese,Mandarin,French   \n",
       "3       06:52:44    81.78  English,Italian,Japanese,Mandarin,French   \n",
       "4       06:52:44   144.62  English,Italian,Japanese,Mandarin,French   \n",
       "\n",
       "                preferred_film_category  city_id preferred_film_year  \n",
       "0  Sports,Sci-Fi,Animation,Drama,Comedy      463                 00s  \n",
       "1  Sports,Sci-Fi,Animation,Drama,Comedy      449                 00s  \n",
       "2  Sports,Sci-Fi,Animation,Drama,Comedy       38                 00s  \n",
       "3  Sports,Sci-Fi,Animation,Drama,Comedy      349                 00s  \n",
       "4  Sports,Sci-Fi,Animation,Drama,Comedy      361                 00s  "
      ]
     },
     "execution_count": 65,
     "metadata": {},
     "output_type": "execute_result"
    }
   ],
   "source": [
    "out.head()"
   ]
  },
  {
   "cell_type": "code",
   "execution_count": null,
   "metadata": {},
   "outputs": [],
   "source": []
  },
  {
   "cell_type": "code",
   "execution_count": null,
   "metadata": {},
   "outputs": [],
   "source": []
  },
  {
   "cell_type": "code",
   "execution_count": null,
   "metadata": {},
   "outputs": [],
   "source": []
  },
  {
   "cell_type": "code",
   "execution_count": null,
   "metadata": {},
   "outputs": [],
   "source": []
  },
  {
   "cell_type": "code",
   "execution_count": null,
   "metadata": {},
   "outputs": [],
   "source": []
  },
  {
   "cell_type": "code",
   "execution_count": 192,
   "metadata": {},
   "outputs": [
    {
     "name": "stdout",
     "output_type": "stream",
     "text": [
      "Index(['actor_id', 'first_name', 'last_name', 'last_update'], dtype='object')\n",
      "Index(['address_id', 'address', 'address2', 'district', 'city_id',\n",
      "       'postal_code', 'phone', 'last_update'],\n",
      "      dtype='object')\n",
      "Index(['category_id', 'name', 'last_update'], dtype='object')\n",
      "Index(['city_id', 'city', 'country_id', 'last_update'], dtype='object')\n",
      "Index(['country_id', 'country', 'last_update'], dtype='object')\n",
      "Index(['customer_id', 'store_id', 'first_name', 'last_name', 'email',\n",
      "       'address_id', 'active', 'create_date', 'last_update'],\n",
      "      dtype='object')\n",
      "Index(['film_id', 'title', 'description', 'release_year', 'language_id',\n",
      "       'original_language_id', 'rental_duration', 'rental_rate', 'length',\n",
      "       'replacement_cost', 'rating', 'special_features', 'last_update'],\n",
      "      dtype='object')\n",
      "Index(['actor_id', 'film_id', 'last_update'], dtype='object')\n",
      "Index(['film_id', 'category_id', 'last_update'], dtype='object')\n",
      "Index(['film_id', 'title', 'description'], dtype='object')\n",
      "Index(['inventory_id', 'film_id', 'store_id', 'last_update'], dtype='object')\n",
      "Index(['language_id', 'name', 'last_update'], dtype='object')\n",
      "Index(['payment_id', 'customer_id', 'staff_id', 'rental_id', 'amount',\n",
      "       'payment_date', 'last_update'],\n",
      "      dtype='object')\n",
      "Index(['rental_id', 'rental_date', 'inventory_id', 'customer_id',\n",
      "       'return_date', 'staff_id', 'last_update'],\n",
      "      dtype='object')\n",
      "Index(['staff_id', 'first_name', 'last_name', 'address_id', 'picture', 'email',\n",
      "       'store_id', 'active', 'username', 'password', 'last_update'],\n",
      "      dtype='object')\n",
      "Index(['store_id', 'manager_staff_id', 'address_id', 'last_update'], dtype='object')\n"
     ]
    }
   ],
   "source": [
    "l=['actor','address','category','city','country','customer','film','film_actor','film_category','film_text','inventory','language','payment','rental','staff','store']\n",
    "for i in l:\n",
    "    i=pd.read_csv((r'C:\\Users\\syedkhadarvalli\\Desktop\\mysql-sakila-db\\{}.csv').format(i))\n",
    "    print(i.columns)    "
   ]
  },
  {
   "cell_type": "code",
   "execution_count": 231,
   "metadata": {},
   "outputs": [
    {
     "data": {
      "text/html": [
       "<div>\n",
       "<style scoped>\n",
       "    .dataframe tbody tr th:only-of-type {\n",
       "        vertical-align: middle;\n",
       "    }\n",
       "\n",
       "    .dataframe tbody tr th {\n",
       "        vertical-align: top;\n",
       "    }\n",
       "\n",
       "    .dataframe thead th {\n",
       "        text-align: right;\n",
       "    }\n",
       "</style>\n",
       "<table border=\"1\" class=\"dataframe\">\n",
       "  <thead>\n",
       "    <tr style=\"text-align: right;\">\n",
       "      <th></th>\n",
       "      <th>customer_id</th>\n",
       "      <th>create_date</th>\n",
       "      <th>rental_date</th>\n",
       "      <th>return_date</th>\n",
       "    </tr>\n",
       "  </thead>\n",
       "  <tbody>\n",
       "    <tr>\n",
       "      <th>16039</th>\n",
       "      <td>599</td>\n",
       "      <td>2006-02-14 22:04:37</td>\n",
       "      <td>2005-08-21 17:43:42</td>\n",
       "      <td>2005-08-22 18:53:42</td>\n",
       "    </tr>\n",
       "    <tr>\n",
       "      <th>16040</th>\n",
       "      <td>599</td>\n",
       "      <td>2006-02-14 22:04:37</td>\n",
       "      <td>2005-08-21 21:41:57</td>\n",
       "      <td>2005-08-25 20:37:57</td>\n",
       "    </tr>\n",
       "    <tr>\n",
       "      <th>16041</th>\n",
       "      <td>599</td>\n",
       "      <td>2006-02-14 22:04:37</td>\n",
       "      <td>2005-08-23 06:09:44</td>\n",
       "      <td>2005-09-01 06:53:44</td>\n",
       "    </tr>\n",
       "    <tr>\n",
       "      <th>16042</th>\n",
       "      <td>599</td>\n",
       "      <td>2006-02-14 22:04:37</td>\n",
       "      <td>2005-08-23 11:08:46</td>\n",
       "      <td>2005-08-25 07:25:46</td>\n",
       "    </tr>\n",
       "    <tr>\n",
       "      <th>16043</th>\n",
       "      <td>599</td>\n",
       "      <td>2006-02-14 22:04:37</td>\n",
       "      <td>2005-08-23 11:25:00</td>\n",
       "      <td>2005-08-26 11:46:00</td>\n",
       "    </tr>\n",
       "  </tbody>\n",
       "</table>\n",
       "</div>"
      ],
      "text/plain": [
       "       customer_id          create_date          rental_date  \\\n",
       "16039          599  2006-02-14 22:04:37  2005-08-21 17:43:42   \n",
       "16040          599  2006-02-14 22:04:37  2005-08-21 21:41:57   \n",
       "16041          599  2006-02-14 22:04:37  2005-08-23 06:09:44   \n",
       "16042          599  2006-02-14 22:04:37  2005-08-23 11:08:46   \n",
       "16043          599  2006-02-14 22:04:37  2005-08-23 11:25:00   \n",
       "\n",
       "               return_date  \n",
       "16039  2005-08-22 18:53:42  \n",
       "16040  2005-08-25 20:37:57  \n",
       "16041  2005-09-01 06:53:44  \n",
       "16042  2005-08-25 07:25:46  \n",
       "16043  2005-08-26 11:46:00  "
      ]
     },
     "execution_count": 231,
     "metadata": {},
     "output_type": "execute_result"
    }
   ],
   "source": [
    "c=pd.merge(film_category,film,how='left',on=['customer_id'])\n",
    "c[['customer_id','create_date','rental_date','return_date']].tail()"
   ]
  },
  {
   "cell_type": "code",
   "execution_count": 184,
   "metadata": {},
   "outputs": [
    {
     "data": {
      "text/plain": [
       "\"l=pd.merge(film, film_actor,how='inner',on=['film_id'])\\nl=pd.merge(l,film_category,how='inner',on=['film_id'])\\nl=pd.merge(l, film_text,how='inner',on=['film_id'])\\nl=pd.merge(l, inventory,how='inner',on=['film_id'])\\nl.head()\\n#l.columns.tolist()\\n\\n#l[['film_id','release_year','rental_rate','category_id']].head()\""
      ]
     },
     "execution_count": 184,
     "metadata": {},
     "output_type": "execute_result"
    }
   ],
   "source": [
    "\"\"\"l=pd.merge(film, film_actor,how='inner',on=['film_id'])\n",
    "l=pd.merge(l,film_category,how='inner',on=['film_id'])\n",
    "l=pd.merge(l, film_text,how='inner',on=['film_id'])\n",
    "l=pd.merge(l, inventory,how='inner',on=['film_id'])\n",
    "l.head()\n",
    "#l.columns.tolist()\n",
    "\n",
    "#l[['film_id','release_year','rental_rate','category_id']].head()\"\"\""
   ]
  }
 ],
 "metadata": {
  "kernelspec": {
   "display_name": "Python 3",
   "language": "python",
   "name": "python3"
  },
  "language_info": {
   "codemirror_mode": {
    "name": "ipython",
    "version": 3
   },
   "file_extension": ".py",
   "mimetype": "text/x-python",
   "name": "python",
   "nbconvert_exporter": "python",
   "pygments_lexer": "ipython3",
   "version": "3.7.6"
  }
 },
 "nbformat": 4,
 "nbformat_minor": 4
}
